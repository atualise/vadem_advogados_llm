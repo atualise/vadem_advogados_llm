{
 "cells": [
  {
   "cell_type": "code",
   "execution_count": 2,
   "id": "a3d1e617-0874-4843-a392-74ec1cd5e5d2",
   "metadata": {},
   "outputs": [],
   "source": [
    "from selenium import webdriver\n",
    "from selenium.webdriver.common.by import By\n",
    "from selenium.webdriver.chrome.service import Service\n",
    "from webdriver_manager.chrome import ChromeDriverManager\n",
    "from selenium.webdriver.support.ui import WebDriverWait"
   ]
  },
  {
   "cell_type": "code",
   "execution_count": 106,
   "id": "e3401d3d-858c-4e53-ae2b-a6f409203bfb",
   "metadata": {},
   "outputs": [],
   "source": []
  },
  {
   "cell_type": "code",
   "execution_count": 4,
   "id": "e04bc685-0168-4764-adf9-33a53f83cc4e",
   "metadata": {},
   "outputs": [],
   "source": [
    "#service = Service(ChromeDriverManager().install())\n",
    "#options = webdriver.ChromeOptions()\n",
    "#options.binary_location = \"/dados/produtos/advocacia/chrome-headless-shell/linux-130.0.6723.58/chrome-headless-shell-linux64/chrome-headless-shell\"\n",
    "#options.binary_location = \"/Users/vagner/chrome-headless-shell/mac-130.0.6723.69/chrome-headless-shell-mac-x64/chrome-headless-shell\"\n",
    "#options.add_argument(\"--headless=new\")\n",
    "#options.enable_downloads = True\n",
    "#options.browser_version = 'stable'\n",
    "#options.add_experimental_option('excludeSwitches', ['disable-popup-blocking'])\n",
    "#options.proxy = Proxy({ 'proxyType': ProxyType.MANUAL, 'httpProxy' : 'http.proxy:1234'})\n",
    "#driver = webdriver.Chrome(service=service, options=options)\n"
   ]
  },
  {
   "cell_type": "code",
   "execution_count": 14,
   "id": "b1a7facc-af50-4e65-a006-30f1e35cc3ec",
   "metadata": {
    "scrolled": true
   },
   "outputs": [],
   "source": [
    "def getDriver():\n",
    "    service = Service(ChromeDriverManager().install())\n",
    "    options = webdriver.ChromeOptions()\n",
    "    options.enable_downloads = True\n",
    "    driver = webdriver.Chrome(service=service, options=options)\n",
    "    driver.set_window_size(1024, 768)\n",
    "    return driver\n",
    "\n",
    "\n",
    "\n",
    "\n",
    "\n",
    "def getDriverHeadless():\n",
    "    service = Service(ChromeDriverManager().install())\n",
    "    options = webdriver.ChromeOptions()\n",
    "    options.binary_location = \"/Users/vagner/chrome-headless-shell/mac-130.0.6723.69/chrome-headless-shell-mac-x64/chrome-headless-shell\"\n",
    "    options.enable_downloads = True\n",
    "    options.add_argument(\"--headless=new\")\n",
    "    driver = webdriver.Chrome(service=service, options=options)\n",
    "    driver.set_window_size(1024, 768)\n",
    "    return driver\n",
    "\n",
    "\n",
    "\n",
    "\n",
    "def getInteiroTeor(driver):\n",
    "    elements = resultado.find_elements(By.CLASS_NAME, \"downloadEmenta\")\n",
    "    downloads = []\n",
    "    for ele in elements:\n",
    "        ele.click()\n",
    "        WebDriverWait(driver, 1)\n",
    "\n",
    "\n",
    "\n",
    "def getResults(driver):\n",
    "    try:\n",
    "        resultado = driver.find_element(By.ID, \"divDadosResultado-A\")\n",
    "        artigos = resultado.find_elements(By.CLASS_NAME, \"fundocinza1\")\n",
    "        resultados = []\n",
    "        for art in artigos:\n",
    "            resultados.append(art.text.replace(\"\\n\\n\",\"\\n\"))\n",
    "        return resultados\n",
    "    except:\n",
    "        return []\n",
    "\n",
    "\n",
    "\n",
    "def proxPagina(driver):\n",
    "    try:\n",
    "        linkProx = driver.find_element(By.CSS_SELECTOR, '[title=\"Próxima página\"]').click()\n",
    "    except:\n",
    "        \"\"\n",
    "    return driver\n",
    "\n",
    "\n",
    "driver = getDriver()"
   ]
  },
  {
   "cell_type": "code",
   "execution_count": 31,
   "id": "32b79c96-0d7d-43e3-86bc-8b3f2450025f",
   "metadata": {},
   "outputs": [],
   "source": [
    "# encontra um processo\n",
    "\n",
    "\n",
    "driver.get(\"https://esaj.tjsp.jus.br/cjsg/consultaCompleta.do\")\n",
    "termo_pesquisa = \"provimento parcial\"\n",
    "dt_inicio = \"01/01/2024\"\n",
    "dt_final = \"01/05/2024\"\n",
    "\n",
    "\n",
    "dtInicio = driver.find_element(By.ID, \"iddados.dtPublicacaoInicio\").send_keys(dt_inicio)\n",
    "dtFinal = driver.find_element(By.ID, \"iddados.dtPublicacaoFim\").send_keys(dt_final)\n",
    "campoBusca = driver.find_element(By.ID, \"iddados.buscaInteiroTeor\")\n",
    "campoBusca.clear()\n",
    "campoBusca.send_keys(termo_pesquisa)\n",
    "wait = WebDriverWait(driver, 3)\n",
    "campoBusca.submit()\n",
    "btnBuscar = driver.find_element(By.ID, \"pbSubmit\").click()\n"
   ]
  },
  {
   "cell_type": "code",
   "execution_count": 100,
   "id": "070dc7fd-d732-4a1d-9b94-5bea2a914bd3",
   "metadata": {
    "scrolled": true
   },
   "outputs": [
    {
     "name": "stdout",
     "output_type": "stream",
     "text": [
      "\n"
     ]
    }
   ],
   "source": [
    "\n",
    "resultados = []\n",
    "loop = 1\n",
    "for i in range(0, loop):\n",
    "    resultados = resultados + getResults(driver)\n",
    "    proxPagina(driver)\n",
    "    \n",
    "\n",
    "print(\"\\n\\n\\n\".join(resultados))\n"
   ]
  },
  {
   "cell_type": "code",
   "execution_count": 64,
   "id": "4fe37d0a-dba7-483d-9064-dcfce18b1070",
   "metadata": {},
   "outputs": [],
   "source": [
    "\n",
    "\n"
   ]
  },
  {
   "cell_type": "code",
   "execution_count": 39,
   "id": "d1bc2f39-b838-443a-8a7b-18983247d696",
   "metadata": {},
   "outputs": [],
   "source": [
    "\n",
    "driver.quit()\n"
   ]
  },
  {
   "cell_type": "code",
   "execution_count": null,
   "id": "60062731-f1da-45f7-b205-546b1d059ba4",
   "metadata": {},
   "outputs": [],
   "source": []
  }
 ],
 "metadata": {
  "kernelspec": {
   "display_name": "Python 3 (ipykernel)",
   "language": "python",
   "name": "python3"
  },
  "language_info": {
   "codemirror_mode": {
    "name": "ipython",
    "version": 3
   },
   "file_extension": ".py",
   "mimetype": "text/x-python",
   "name": "python",
   "nbconvert_exporter": "python",
   "pygments_lexer": "ipython3",
   "version": "3.11.7"
  }
 },
 "nbformat": 4,
 "nbformat_minor": 5
}
